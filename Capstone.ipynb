{
  "cells": [
    {
      "cell_type": "markdown",
      "metadata": {
        "id": "view-in-github",
        "colab_type": "text"
      },
      "source": [
        "<a href=\"https://colab.research.google.com/github/sisatput/IBM-Data-Classification/blob/main/Capstone.ipynb\" target=\"_parent\"><img src=\"https://colab.research.google.com/assets/colab-badge.svg\" alt=\"Open In Colab\"/></a>"
      ]
    },
    {
      "cell_type": "markdown",
      "metadata": {
        "id": "BxYauSX5ytz0"
      },
      "source": [
        "Setup Colab (install & auth Replicate)"
      ]
    },
    {
      "cell_type": "code",
      "execution_count": null,
      "metadata": {
        "colab": {
          "base_uri": "https://localhost:8080/",
          "height": 73
        },
        "id": "swiaSefnyaSC",
        "outputId": "bb011388-0c69-4f26-b0bd-821e122cae2d"
      },
      "outputs": [
        {
          "output_type": "display_data",
          "data": {
            "text/plain": [
              "<IPython.core.display.HTML object>"
            ],
            "text/html": [
              "\n",
              "     <input type=\"file\" id=\"files-89ee6f4b-c770-481a-9776-a01e0fb3f4af\" name=\"files[]\" multiple disabled\n",
              "        style=\"border:none\" />\n",
              "     <output id=\"result-89ee6f4b-c770-481a-9776-a01e0fb3f4af\">\n",
              "      Upload widget is only available when the cell has been executed in the\n",
              "      current browser session. Please rerun this cell to enable.\n",
              "      </output>\n",
              "      <script>// Copyright 2017 Google LLC\n",
              "//\n",
              "// Licensed under the Apache License, Version 2.0 (the \"License\");\n",
              "// you may not use this file except in compliance with the License.\n",
              "// You may obtain a copy of the License at\n",
              "//\n",
              "//      http://www.apache.org/licenses/LICENSE-2.0\n",
              "//\n",
              "// Unless required by applicable law or agreed to in writing, software\n",
              "// distributed under the License is distributed on an \"AS IS\" BASIS,\n",
              "// WITHOUT WARRANTIES OR CONDITIONS OF ANY KIND, either express or implied.\n",
              "// See the License for the specific language governing permissions and\n",
              "// limitations under the License.\n",
              "\n",
              "/**\n",
              " * @fileoverview Helpers for google.colab Python module.\n",
              " */\n",
              "(function(scope) {\n",
              "function span(text, styleAttributes = {}) {\n",
              "  const element = document.createElement('span');\n",
              "  element.textContent = text;\n",
              "  for (const key of Object.keys(styleAttributes)) {\n",
              "    element.style[key] = styleAttributes[key];\n",
              "  }\n",
              "  return element;\n",
              "}\n",
              "\n",
              "// Max number of bytes which will be uploaded at a time.\n",
              "const MAX_PAYLOAD_SIZE = 100 * 1024;\n",
              "\n",
              "function _uploadFiles(inputId, outputId) {\n",
              "  const steps = uploadFilesStep(inputId, outputId);\n",
              "  const outputElement = document.getElementById(outputId);\n",
              "  // Cache steps on the outputElement to make it available for the next call\n",
              "  // to uploadFilesContinue from Python.\n",
              "  outputElement.steps = steps;\n",
              "\n",
              "  return _uploadFilesContinue(outputId);\n",
              "}\n",
              "\n",
              "// This is roughly an async generator (not supported in the browser yet),\n",
              "// where there are multiple asynchronous steps and the Python side is going\n",
              "// to poll for completion of each step.\n",
              "// This uses a Promise to block the python side on completion of each step,\n",
              "// then passes the result of the previous step as the input to the next step.\n",
              "function _uploadFilesContinue(outputId) {\n",
              "  const outputElement = document.getElementById(outputId);\n",
              "  const steps = outputElement.steps;\n",
              "\n",
              "  const next = steps.next(outputElement.lastPromiseValue);\n",
              "  return Promise.resolve(next.value.promise).then((value) => {\n",
              "    // Cache the last promise value to make it available to the next\n",
              "    // step of the generator.\n",
              "    outputElement.lastPromiseValue = value;\n",
              "    return next.value.response;\n",
              "  });\n",
              "}\n",
              "\n",
              "/**\n",
              " * Generator function which is called between each async step of the upload\n",
              " * process.\n",
              " * @param {string} inputId Element ID of the input file picker element.\n",
              " * @param {string} outputId Element ID of the output display.\n",
              " * @return {!Iterable<!Object>} Iterable of next steps.\n",
              " */\n",
              "function* uploadFilesStep(inputId, outputId) {\n",
              "  const inputElement = document.getElementById(inputId);\n",
              "  inputElement.disabled = false;\n",
              "\n",
              "  const outputElement = document.getElementById(outputId);\n",
              "  outputElement.innerHTML = '';\n",
              "\n",
              "  const pickedPromise = new Promise((resolve) => {\n",
              "    inputElement.addEventListener('change', (e) => {\n",
              "      resolve(e.target.files);\n",
              "    });\n",
              "  });\n",
              "\n",
              "  const cancel = document.createElement('button');\n",
              "  inputElement.parentElement.appendChild(cancel);\n",
              "  cancel.textContent = 'Cancel upload';\n",
              "  const cancelPromise = new Promise((resolve) => {\n",
              "    cancel.onclick = () => {\n",
              "      resolve(null);\n",
              "    };\n",
              "  });\n",
              "\n",
              "  // Wait for the user to pick the files.\n",
              "  const files = yield {\n",
              "    promise: Promise.race([pickedPromise, cancelPromise]),\n",
              "    response: {\n",
              "      action: 'starting',\n",
              "    }\n",
              "  };\n",
              "\n",
              "  cancel.remove();\n",
              "\n",
              "  // Disable the input element since further picks are not allowed.\n",
              "  inputElement.disabled = true;\n",
              "\n",
              "  if (!files) {\n",
              "    return {\n",
              "      response: {\n",
              "        action: 'complete',\n",
              "      }\n",
              "    };\n",
              "  }\n",
              "\n",
              "  for (const file of files) {\n",
              "    const li = document.createElement('li');\n",
              "    li.append(span(file.name, {fontWeight: 'bold'}));\n",
              "    li.append(span(\n",
              "        `(${file.type || 'n/a'}) - ${file.size} bytes, ` +\n",
              "        `last modified: ${\n",
              "            file.lastModifiedDate ? file.lastModifiedDate.toLocaleDateString() :\n",
              "                                    'n/a'} - `));\n",
              "    const percent = span('0% done');\n",
              "    li.appendChild(percent);\n",
              "\n",
              "    outputElement.appendChild(li);\n",
              "\n",
              "    const fileDataPromise = new Promise((resolve) => {\n",
              "      const reader = new FileReader();\n",
              "      reader.onload = (e) => {\n",
              "        resolve(e.target.result);\n",
              "      };\n",
              "      reader.readAsArrayBuffer(file);\n",
              "    });\n",
              "    // Wait for the data to be ready.\n",
              "    let fileData = yield {\n",
              "      promise: fileDataPromise,\n",
              "      response: {\n",
              "        action: 'continue',\n",
              "      }\n",
              "    };\n",
              "\n",
              "    // Use a chunked sending to avoid message size limits. See b/62115660.\n",
              "    let position = 0;\n",
              "    do {\n",
              "      const length = Math.min(fileData.byteLength - position, MAX_PAYLOAD_SIZE);\n",
              "      const chunk = new Uint8Array(fileData, position, length);\n",
              "      position += length;\n",
              "\n",
              "      const base64 = btoa(String.fromCharCode.apply(null, chunk));\n",
              "      yield {\n",
              "        response: {\n",
              "          action: 'append',\n",
              "          file: file.name,\n",
              "          data: base64,\n",
              "        },\n",
              "      };\n",
              "\n",
              "      let percentDone = fileData.byteLength === 0 ?\n",
              "          100 :\n",
              "          Math.round((position / fileData.byteLength) * 100);\n",
              "      percent.textContent = `${percentDone}% done`;\n",
              "\n",
              "    } while (position < fileData.byteLength);\n",
              "  }\n",
              "\n",
              "  // All done.\n",
              "  yield {\n",
              "    response: {\n",
              "      action: 'complete',\n",
              "    }\n",
              "  };\n",
              "}\n",
              "\n",
              "scope.google = scope.google || {};\n",
              "scope.google.colab = scope.google.colab || {};\n",
              "scope.google.colab._files = {\n",
              "  _uploadFiles,\n",
              "  _uploadFilesContinue,\n",
              "};\n",
              "})(self);\n",
              "</script> "
            ]
          },
          "metadata": {}
        },
        {
          "output_type": "stream",
          "name": "stdout",
          "text": [
            "Saving kaggle.json to kaggle.json\n"
          ]
        }
      ],
      "source": [
        "# --- INSTALL ---\n",
        "!pip -q install kaggle replicate datasets transformers evaluate rouge-score\n",
        "\n",
        "# --- KAGGLE AUTH (upload kaggle.json Anda) ---\n",
        "from google.colab import files\n",
        "import os, shutil\n",
        "\n",
        "uploaded = files.upload()  # pilih kaggle.json Anda\n",
        "if \"kaggle.json\" not in uploaded:\n",
        "    raise FileNotFoundError(\"File 'kaggle.json' tidak ditemukan. Pastikan Anda memilihnya saat upload.\")\n",
        "\n",
        "os.makedirs(\"/root/.kaggle\", exist_ok=True)\n",
        "shutil.copy(\"kaggle.json\", \"/root/.kaggle/kaggle.json\")\n",
        "os.chmod(\"/root/.kaggle/kaggle.json\", 0o600)\n",
        "\n",
        "# --- REPLICATE AUTH (gunakan Colab Secrets) ---\n",
        "# Di Colab: klik ikon 🔑 (Secrets), lalu tambahkan key: REPLICATE_API_TOKEN\n",
        "try:\n",
        "    from google.colab import userdata\n",
        "    REPLICATE_API_TOKEN = userdata.get(\"REPLICATE_API_TOKEN\")\n",
        "    if not REPLICATE_API_TOKEN:\n",
        "        raise ValueError(\"Secret 'REPLICATE_API_TOKEN' belum di-set. Tambahkan via Colab Secrets.\")\n",
        "    os.environ[\"REPLICATE_API_TOKEN\"] = REPLICATE_API_TOKEN\n",
        "except Exception as e:\n",
        "    raise RuntimeError(\"Gagal mengambil secret 'REPLICATE_API_TOKEN' dari Colab Secrets.\") from e\n"
      ]
    },
    {
      "cell_type": "markdown",
      "metadata": {
        "id": "WwRkzNoky3PR"
      },
      "source": [
        "Ambil dataset AG News dari Kaggle"
      ]
    },
    {
      "cell_type": "code",
      "execution_count": null,
      "metadata": {
        "id": "JT675eNYy5B0",
        "colab": {
          "base_uri": "https://localhost:8080/"
        },
        "outputId": "4ed8dfc9-ae69-40df-c4f8-592cc3270919"
      },
      "outputs": [
        {
          "output_type": "stream",
          "name": "stdout",
          "text": [
            "Dataset URL: https://www.kaggle.com/datasets/amananandrai/ag-news-classification-dataset\n",
            "License(s): unknown\n"
          ]
        }
      ],
      "source": [
        "!kaggle datasets download -d amananandrai/ag-news-classification-dataset -q\n",
        "!unzip -o ag-news-classification-dataset.zip -d agnews > /dev/null\n",
        "\n",
        "import pandas as pd\n",
        "train_df = pd.read_csv(\"agnews/train.csv\")\n",
        "test_df  = pd.read_csv(\"agnews/test.csv\")\n",
        "\n",
        "# Gabung title + description\n",
        "for df in (train_df, test_df):\n",
        "    df[\"text\"] = df[\"Title\"].astype(str) + \". \" + df[\"Description\"].astype(str)\n",
        "\n",
        "label_map = {1:\"World\", 2:\"Sports\", 3:\"Business\", 4:\"Sci/Tech\"}\n"
      ]
    },
    {
      "cell_type": "markdown",
      "metadata": {
        "id": "VeOCjOxPJ2GA"
      },
      "source": [
        "Visualisasi Distribusi Data (EDA)"
      ]
    },
    {
      "cell_type": "code",
      "execution_count": null,
      "metadata": {
        "colab": {
          "base_uri": "https://localhost:8080/",
          "height": 704
        },
        "id": "NDHjZ4UoJ1Fj",
        "outputId": "73a0831b-968b-4c70-8ba4-fb0ea1d1f9a2"
      },
      "outputs": [
        {
          "output_type": "stream",
          "name": "stderr",
          "text": [
            "/tmp/ipython-input-2442278900.py:15: FutureWarning: \n",
            "\n",
            "Passing `palette` without assigning `hue` is deprecated and will be removed in v0.14.0. Assign the `x` variable to `hue` and set `legend=False` for the same effect.\n",
            "\n",
            "  ax = sns.countplot(x='label_name', data=train_df, order=order, palette=\"viridis\")\n"
          ]
        },
        {
          "output_type": "display_data",
          "data": {
            "text/plain": [
              "<Figure size 1000x600 with 1 Axes>"
            ],
            "image/png": "[encoded data removed]"
          },
          "metadata": {}
        }
      ],
      "source": [
        "# --- Sisipkan kode ini setelah Anda memuat train_df ---\n",
        "import matplotlib.pyplot as plt\n",
        "import seaborn as sns\n",
        "\n",
        "# Mapping dari Class Index ke Nama Label yang sudah Anda buat\n",
        "label_map = {1: \"World\", 2: \"Sports\", 3: \"Business\", 4: \"Sci/Tech\"}\n",
        "train_df['label_name'] = train_df['Class Index'].map(label_map)\n",
        "\n",
        "# Atur style plot\n",
        "sns.set(style=\"whitegrid\", font_scale=1.1)\n",
        "plt.figure(figsize=(10, 6))\n",
        "\n",
        "# Urutkan bar berdasarkan jumlahnya\n",
        "order = train_df['label_name'].value_counts().index\n",
        "ax = sns.countplot(x='label_name', data=train_df, order=order, palette=\"viridis\")\n",
        "\n",
        "# Tambahkan judul dan label\n",
        "ax.set_title('Distribusi Kategori Berita dalam Training Set', fontsize=16, pad=20)\n",
        "ax.set_xlabel('Kategori Berita', fontsize=12)\n",
        "ax.set_ylabel('Jumlah Artikel', fontsize=12)\n",
        "\n",
        "# Tambahkan anotasi jumlah pada setiap bar\n",
        "for p in ax.patches:\n",
        "    ax.annotate(f'{int(p.get_height()):,}',\n",
        "                (p.get_x() + p.get_width() / 2., p.get_height()),\n",
        "                ha='center', va='center',\n",
        "                fontsize=11, xytext=(0, 9),\n",
        "                textcoords='offset points')\n",
        "\n",
        "plt.tight_layout()\n",
        "# Simpan gambar untuk laporan Anda\n",
        "plt.savefig(\"distribusi_kategori_berita.png\")\n",
        "plt.show()"
      ]
    },
    {
      "cell_type": "markdown",
      "metadata": {
        "id": "0g2BW_2Py-9V"
      },
      "source": [
        "Fungsi helper: panggil Granite di Replicate"
      ]
    },
    {
      "cell_type": "code",
      "execution_count": null,
      "metadata": {
        "id": "3QBpG7t3y9X2"
      },
      "outputs": [],
      "source": [
        "import replicate, textwrap, time\n",
        "\n",
        "GRANITE_MODEL = \"ibm-granite/granite-3.3-8b-instruct\"  # model slug di Replicate\n",
        "\n",
        "SYSTEM_PROMPT = (\n",
        "    \"You are an analytical assistant. Respond in plain JSON only.\"\n",
        ")\n",
        "\n",
        "def granite_json(prompt, max_tokens=256, temperature=0.2):\n",
        "    full_prompt = f\"<|system|>\\n{SYSTEM_PROMPT}\\n<|user|>\\n{prompt}\\n<|assistant|>\"\n",
        "    out = replicate.run(\n",
        "        f\"{GRANITE_MODEL}\",\n",
        "        input={\n",
        "            \"prompt\": full_prompt,\n",
        "            \"max_tokens\": max_tokens,\n",
        "            \"temperature\": temperature,\n",
        "        },\n",
        "    )\n",
        "    # Replicate stream returns an iterator of chunks; join menjadi string\n",
        "    text = \"\".join(list(out)).strip()\n",
        "    return text\n"
      ]
    },
    {
      "cell_type": "markdown",
      "metadata": {
        "id": "GpXXg9hkzEhg"
      },
      "source": [
        "Zero-/Few-shot Classification dengan Granite"
      ]
    },
    {
      "cell_type": "code",
      "execution_count": null,
      "metadata": {
        "colab": {
          "base_uri": "https://localhost:8080/",
          "height": 66,
          "referenced_widgets": [
            "b5879c99284b4265865d357c0f66729c",
            "cc4f4907bb304b6da240f8cd85a514bf",
            "58853899ef204fd3ab60ba4b0a24c121",
            "1451865d17f540daa3a7d05ca8f4e44d",
            "04b8744f9c2e4c949572540806754cb1",
            "f5602aaaf7cb4705ba22c19c69ec7806",
            "8df4c584ec734bb8a065a4042ecd48c6",
            "894d18ed166040aa92d38b91247b07c4",
            "1fd4936b007b4ed79fbc642ae23ae358",
            "c7a967175a884c59a8a0eaa9772d0986",
            "0e7aeca6849b4d75bbeaf54db220d660"
          ]
        },
        "id": "mz5LeyGAzCWU",
        "outputId": "fe5f0845-b5d6-4f44-af5d-de0ae5ea0cd9"
      },
      "outputs": [
        {
          "output_type": "display_data",
          "data": {
            "text/plain": [
              "  0%|          | 0/50 [00:00<?, ?it/s]"
            ],
            "application/vnd.jupyter.widget-view+json": {
              "version_major": 2,
              "version_minor": 0,
              "model_id": "b5879c99284b4265865d357c0f66729c"
            }
          },
          "metadata": {}
        },
        {
          "output_type": "execute_result",
          "data": {
            "text/plain": [
              "np.float64(0.9)"
            ]
          },
          "metadata": {},
          "execution_count": 15
        }
      ],
      "source": [
        "import json, numpy as np\n",
        "from tqdm.auto import tqdm\n",
        "\n",
        "CLASS_LABELS = [\"World\",\"Sports\",\"Business\",\"Sci/Tech\"]\n",
        "\n",
        "FEW_SHOTS = [\n",
        "    {\"text\":\"Fed hikes rates amid inflation concerns.\", \"label\":\"Business\"},\n",
        "    {\"text\":\"Mars rover sends new images from crater.\", \"label\":\"Sci/Tech\"},\n",
        "    {\"text\":\"Local team clinches championship title.\", \"label\":\"Sports\"},\n",
        "    {\"text\":\"UN holds summit on global refugee crisis.\", \"label\":\"World\"},\n",
        "]\n",
        "\n",
        "def build_classification_prompt(text):\n",
        "    examples = \"\\n\".join(\n",
        "        [f'{{\"text\":\"{e[\"text\"]}\",\"label\":\"{e[\"label\"]}\"}}' for e in FEW_SHOTS]\n",
        "    )\n",
        "    instr = f\"\"\"\n",
        "Task: Classify the NEWS text into one of labels: {CLASS_LABELS}.\n",
        "Return JSON with keys: label, confidence (0-1), rationale (short string).\n",
        "\n",
        "Few-shot examples (JSON lines):\n",
        "{examples}\n",
        "\n",
        "Now classify this text:\n",
        "{text}\n",
        "Return only JSON.\n",
        "\"\"\"\n",
        "    return instr.strip()\n",
        "\n",
        "# Contoh batch kecil untuk validasi cepat\n",
        "sample_val = test_df.sample(50, random_state=42).copy()\n",
        "preds = []\n",
        "for t in tqdm(sample_val[\"text\"].tolist()):\n",
        "    js = granite_json(build_classification_prompt(t), max_tokens=180)\n",
        "    # Robust parse\n",
        "    try:\n",
        "        j = json.loads(js)\n",
        "        label = j.get(\"label\",\"\")\n",
        "    except:\n",
        "        label = \"\"\n",
        "    preds.append(label)\n",
        "\n",
        "sample_val[\"pred_label\"] = preds\n",
        "sample_val[\"true_label\"] = sample_val[\"Class Index\"].map(label_map)\n",
        "acc = (sample_val[\"pred_label\"] == sample_val[\"true_label\"]).mean()\n",
        "acc\n"
      ]
    },
    {
      "cell_type": "markdown",
      "metadata": {
        "id": "JcKOkm_izJ8K"
      },
      "source": [
        "Summarization dengan Granite"
      ]
    },
    {
      "cell_type": "code",
      "execution_count": null,
      "metadata": {
        "colab": {
          "base_uri": "https://localhost:8080/"
        },
        "id": "9CUUWZiJzGMf",
        "outputId": "2e9e0047-400d-4e3d-f83e-3160d3f108e3"
      },
      "outputs": [
        {
          "output_type": "stream",
          "name": "stdout",
          "text": [
            "--------------------------------------------------------------------------------\n",
            "Motorola berusaha memperkuat desain produk mereka. Pada ruangan kantor di tingkat 26 dengan pandangan langit Semenan Lake, sekitar 40 desainer industri, jeneng mekanik, dan ahli bidang yang bervariasi dari antropologi hingga musikology bekerja sama untuk menciptakan produk dengan desain yang lebih inovatif dan relevan dengan kebutuhan konsumen.\n",
            "--------------------------------------------------------------------------------\n",
            "Rally di Wall Street diharapkan terus terjadi hingga Desember, tetapi terdapat berbagai berita buruk yang mungkin menyebabkan perkembangan beli terhenti.\n",
            "--------------------------------------------------------------------------------\n",
            "Poland akan mengurangi sederet satu dari tiga dari pasukan milinya di Iraq pada tahun berikutnya. Menteri Pertahanan Poland, Jerzy Szmajdzinski, mengumumkan rencana tersebut.\n"
          ]
        }
      ],
      "source": [
        "def build_summarize_prompt(text, target_words=50):\n",
        "    return f\"\"\"\n",
        "Summarize the following news article in about {target_words} words.\n",
        "Use concise Indonesian language if possible. Return JSON with keys: summary.\n",
        "\n",
        "Article:\n",
        "{text}\n",
        "\"\"\"\n",
        "\n",
        "# Coba 3 contoh ringkasan\n",
        "demo = test_df.sample(3, random_state=7)[\"text\"].tolist()\n",
        "summaries = []\n",
        "for t in demo:\n",
        "    js = granite_json(build_summarize_prompt(t, target_words=60), max_tokens=220)\n",
        "    try:\n",
        "        j = json.loads(js); summaries.append(j[\"summary\"])\n",
        "    except:\n",
        "        summaries.append(js)\n",
        "\n",
        "for s in summaries:\n",
        "    print(\"-\"*80); print(s)\n"
      ]
    },
    {
      "cell_type": "markdown",
      "metadata": {
        "id": "unp8DcYJzNwa"
      },
      "source": [
        "Baseline Classifier (untuk pembanding di laporan)"
      ]
    },
    {
      "cell_type": "code",
      "execution_count": null,
      "metadata": {
        "id": "AL6JfFijzMLq",
        "colab": {
          "base_uri": "https://localhost:8080/",
          "height": 350,
          "referenced_widgets": [
            "3b61a4b96a3049cdaaf861b688310665",
            "f755b686d6394b238470b1b95acb170a",
            "332beccba97947b4ae92ca042e01159b",
            "b91096ec80274484a91d63da2b340b69",
            "03fc516f0788443baab3cfd9ea9428a5",
            "91f3f2871f8d41fbb3e2e7866bb2b04c",
            "737e8990f26b4b0d99fc50a1c442ca0b",
            "f8c43012bc094ff781294cdccbcf27c2",
            "486eac40f12540668bb0bf296891c02a",
            "25a8402d09374f4286a75a059ec79f74",
            "7277815c046941bb976a39603ca650e7",
            "997630c4ce70479ab77178362740174e",
            "bfc37db3bffb4baabd7848ef89ebc234",
            "bd1e2b2215c145f19e0127b666f02af6",
            "db938ce7ee7b44f2a5417bd48a379894",
            "40d75c9eab3a4052b3e0b97e28a96b54",
            "ef95040c80e84c0cb1fabb392f7893f3",
            "9ba21ab165ed444d8952f087621d76d0",
            "29c29b73802549c99e05e58f66ee529d",
            "7e239b22d3d14ae0a0ea4ee3e657480b",
            "4eb44b60bcbb4d608702a7eb93f4ef33",
            "7233df53c61543e59972c49ee5000008"
          ]
        },
        "outputId": "f3857eef-26db-47bf-ffb0-dcf65a110be3"
      },
      "outputs": [
        {
          "output_type": "display_data",
          "data": {
            "text/plain": [
              "Map:   0%|          | 0/20000 [00:00<?, ? examples/s]"
            ],
            "application/vnd.jupyter.widget-view+json": {
              "version_major": 2,
              "version_minor": 0,
              "model_id": "3b61a4b96a3049cdaaf861b688310665"
            }
          },
          "metadata": {}
        },
        {
          "output_type": "display_data",
          "data": {
            "text/plain": [
              "Map:   0%|          | 0/7600 [00:00<?, ? examples/s]"
            ],
            "application/vnd.jupyter.widget-view+json": {
              "version_major": 2,
              "version_minor": 0,
              "model_id": "997630c4ce70479ab77178362740174e"
            }
          },
          "metadata": {}
        },
        {
          "output_type": "stream",
          "name": "stderr",
          "text": [
            "Some weights of DistilBertForSequenceClassification were not initialized from the model checkpoint at distilbert-base-uncased and are newly initialized: ['classifier.bias', 'classifier.weight', 'pre_classifier.bias', 'pre_classifier.weight']\n",
            "You should probably TRAIN this model on a down-stream task to be able to use it for predictions and inference.\n"
          ]
        },
        {
          "output_type": "display_data",
          "data": {
            "text/plain": [
              "<IPython.core.display.HTML object>"
            ],
            "text/html": [
              "\n",
              "    <div>\n",
              "      \n",
              "      <progress value='1250' max='1250' style='width:300px; height:20px; vertical-align: middle;'></progress>\n",
              "      [1250/1250 08:19, Epoch 1/1]\n",
              "    </div>\n",
              "    <table border=\"1\" class=\"dataframe\">\n",
              "  <thead>\n",
              " <tr style=\"text-align: left;\">\n",
              "      <th>Epoch</th>\n",
              "      <th>Training Loss</th>\n",
              "      <th>Validation Loss</th>\n",
              "      <th>Accuracy</th>\n",
              "    </tr>\n",
              "  </thead>\n",
              "  <tbody>\n",
              "    <tr>\n",
              "      <td>1</td>\n",
              "      <td>0.243000</td>\n",
              "      <td>0.249161</td>\n",
              "      <td>0.921579</td>\n",
              "    </tr>\n",
              "  </tbody>\n",
              "</table><p>"
            ]
          },
          "metadata": {}
        },
        {
          "output_type": "display_data",
          "data": {
            "text/plain": [
              "<IPython.core.display.HTML object>"
            ],
            "text/html": [
              "\n",
              "    <div>\n",
              "      \n",
              "      <progress value='238' max='238' style='width:300px; height:20px; vertical-align: middle;'></progress>\n",
              "      [238/238 00:58]\n",
              "    </div>\n",
              "    "
            ]
          },
          "metadata": {}
        },
        {
          "output_type": "execute_result",
          "data": {
            "text/plain": [
              "{'eval_loss': 0.24916110932826996,\n",
              " 'eval_accuracy': 0.921578947368421,\n",
              " 'eval_runtime': 58.9402,\n",
              " 'eval_samples_per_second': 128.944,\n",
              " 'eval_steps_per_second': 4.038,\n",
              " 'epoch': 1.0}"
            ]
          },
          "metadata": {},
          "execution_count": 17
        }
      ],
      "source": [
        "from datasets import Dataset\n",
        "from transformers import AutoTokenizer, AutoModelForSequenceClassification, TrainingArguments, Trainer\n",
        "import evaluate, numpy as np\n",
        "\n",
        "base_df = train_df[[\"text\",\"Class Index\"]].rename(columns={\"Class Index\":\"label\"}).copy()\n",
        "base_df[\"label\"] = base_df[\"label\"] - 1  # 0..3\n",
        "\n",
        "train_small = base_df.sample(20000, random_state=7)  # cepat saja\n",
        "val_small   = test_df[[\"text\",\"Class Index\"]].rename(columns={\"Class Index\":\"label\"}).copy()\n",
        "val_small[\"label\"] = val_small[\"label\"] - 1\n",
        "\n",
        "tok = AutoTokenizer.from_pretrained(\"distilbert-base-uncased\")\n",
        "def tok_fn(ex):\n",
        "    return tok(ex[\"text\"], truncation=True, padding=\"max_length\", max_length=256)\n",
        "\n",
        "train_ds = Dataset.from_pandas(train_small).map(tok_fn, batched=True)\n",
        "val_ds   = Dataset.from_pandas(val_small).map(tok_fn, batched=True)\n",
        "\n",
        "# keep only features yang dibutuhkan Trainer\n",
        "keep_cols = [\"input_ids\", \"attention_mask\", \"label\"]\n",
        "train_ds = train_ds.remove_columns([c for c in train_ds.column_names if c not in keep_cols]).with_format(\"torch\")\n",
        "val_ds   = val_ds.remove_columns([c for c in val_ds.column_names if c not in keep_cols]).with_format(\"torch\")\n",
        "\n",
        "model = AutoModelForSequenceClassification.from_pretrained(\"distilbert-base-uncased\", num_labels=4)\n",
        "\n",
        "metric = evaluate.load(\"accuracy\")\n",
        "def comp(eval_pred):\n",
        "    logits, labels = eval_pred\n",
        "    return metric.compute(predictions=np.argmax(logits,axis=-1), references=labels)\n",
        "\n",
        "# NOTE: di Transformers v5, gunakan 'eval_strategy' (bukan 'evaluation_strategy')\n",
        "# dan tambahkan 'logging_strategy' bila ingin pakai logging_steps\n",
        "args = TrainingArguments(\n",
        "    output_dir=\"out\",\n",
        "    per_device_train_batch_size=16,\n",
        "    per_device_eval_batch_size=32,\n",
        "    num_train_epochs=1,\n",
        "    eval_strategy=\"epoch\",\n",
        "    save_strategy=\"no\",\n",
        "    logging_strategy=\"steps\",\n",
        "    logging_steps=100,\n",
        "    report_to=[]\n",
        ")\n",
        "\n",
        "trainer = Trainer(\n",
        "    model=model,\n",
        "    args=args,\n",
        "    train_dataset=train_ds,\n",
        "    eval_dataset=val_ds,\n",
        "    compute_metrics=comp,\n",
        ")\n",
        "\n",
        "trainer.train()\n",
        "trainer.evaluate()\n"
      ]
    },
    {
      "cell_type": "markdown",
      "metadata": {
        "id": "D0SNWwErzSI5"
      },
      "source": [
        "Simpan hasil (untuk repo & slide)"
      ]
    },
    {
      "cell_type": "code",
      "execution_count": null,
      "metadata": {
        "id": "d0nmE98tzPIu"
      },
      "outputs": [],
      "source": [
        "# Simpan ringkasan & prediksi Granite untuk contoh presentasi\n",
        "export = sample_val[[\"text\",\"true_label\",\"pred_label\"]].copy()\n",
        "export.to_csv(\"granite_demo_preds.csv\", index=False)\n",
        "\n",
        "# (opsional) hitung ROUGE ringkasan bila punya reference\n",
        "from rouge_score import rouge_scorer\n",
        "# scorer = rouge_scorer.RougeScorer(['rouge1','rougeL'], use_stemmer=True)\n",
        "# ... hitung skor jika tersedia reference summary\n"
      ]
    },
    {
      "cell_type": "markdown",
      "metadata": {
        "id": "QsPnMfW0J-H3"
      },
      "source": [
        "Visualisasi Perbandingan Performa Model"
      ]
    },
    {
      "cell_type": "code",
      "execution_count": null,
      "metadata": {
        "id": "XHJmxggjzTio",
        "colab": {
          "base_uri": "https://localhost:8080/",
          "height": 453
        },
        "outputId": "b8ed424f-4456-45e1-e2ef-440f8db59461"
      },
      "outputs": [
        {
          "output_type": "display_data",
          "data": {
            "text/plain": [
              "<IPython.core.display.HTML object>"
            ],
            "text/html": []
          },
          "metadata": {}
        },
        {
          "output_type": "display_data",
          "data": {
            "text/plain": [
              "<Figure size 1800x700 with 4 Axes>"
            ],
            "image/png": "[encoded data removed]"
          },
          "metadata": {}
        }
      ],
      "source": [
        "# --- Sisipkan kode ini di akhir notebook ---\n",
        "from sklearn.metrics import confusion_matrix, accuracy_score\n",
        "import numpy as np\n",
        "\n",
        "# 1. Muat hasil prediksi dari Granite (file ini dibuat di notebook Anda)\n",
        "granite_results = pd.read_csv(\"granite_demo_preds.csv\")\n",
        "\n",
        "# 2. Dapatkan prediksi dari model baseline (DistilBERT)\n",
        "#    Kita perlu menjalankan predict() pada data validasi\n",
        "val_preds_output = trainer.predict(val_ds)\n",
        "# val_preds_output.predictions adalah logits, kita butuh argmax untuk mendapatkan label\n",
        "baseline_pred_labels_int = np.argmax(val_preds_output.predictions, axis=1)\n",
        "\n",
        "# Ambil label asli dari validation set\n",
        "true_labels_int = val_ds[\"label\"]\n",
        "true_labels_name = [list(label_map.values())[i] for i in true_labels_int]\n",
        "\n",
        "# Mapping prediksi baseline dari integer ke nama label\n",
        "baseline_pred_labels_name = [list(label_map.values())[i] for i in baseline_pred_labels_int]\n",
        "\n",
        "# 3. Siapkan label untuk Confusion Matrix Granite\n",
        "#    Pastikan urutan label konsisten\n",
        "labels_order = [\"World\", \"Sports\", \"Business\", \"Sci/Tech\"]\n",
        "granite_true = granite_results[\"true_label\"]\n",
        "granite_pred = granite_results[\"pred_label\"]\n",
        "\n",
        "# 4. Hitung Confusion Matrix untuk kedua model\n",
        "cm_granite = confusion_matrix(granite_true, granite_pred, labels=labels_order)\n",
        "cm_baseline = confusion_matrix(true_labels_name, baseline_pred_labels_name, labels=labels_order)\n",
        "\n",
        "# 5. Buat visualisasi\n",
        "fig, axes = plt.subplots(1, 2, figsize=(18, 7))\n",
        "fig.suptitle('Perbandingan Confusion Matrix', fontsize=20)\n",
        "\n",
        "# Confusion Matrix Granite (Few-Shot)\n",
        "sns.heatmap(cm_granite, annot=True, fmt='d', cmap='Blues', xticklabels=labels_order, yticklabels=labels_order, ax=axes[0])\n",
        "axes[0].set_title(f'Granite (Few-Shot Classification)\\nAkurasi: {accuracy_score(granite_true, granite_pred):.2%}', pad=20)\n",
        "axes[0].set_xlabel('Label Prediksi')\n",
        "axes[0].set_ylabel('Label Sebenarnya')\n",
        "\n",
        "# Confusion Matrix Baseline (Fine-Tuned)\n",
        "sns.heatmap(cm_baseline, annot=True, fmt='d', cmap='Oranges', xticklabels=labels_order, yticklabels=labels_order, ax=axes[1])\n",
        "axes[1].set_title(f'Baseline (Fine-tuned DistilBERT)\\nAkurasi: {accuracy_score(true_labels_name, baseline_pred_labels_name):.2%}', pad=20)\n",
        "axes[1].set_xlabel('Label Prediksi')\n",
        "axes[1].set_ylabel('Label Sebenarnya')\n",
        "\n",
        "plt.tight_layout(rect=[0, 0.03, 1, 0.95])\n",
        "# Simpan gambar untuk laporan Anda\n",
        "plt.savefig(\"perbandingan_confusion_matrix.png\")\n",
        "plt.show()"
      ]
    },
    {
      "cell_type": "code",
      "execution_count": null,
      "metadata": {
        "id": "YRZgo9cFJ9Vt"
      },
      "outputs": [],
      "source": []
    }
  ],
  "metadata": {
    "accelerator": "GPU",
    "colab": {
      "gpuType": "T4",
      "provenance": [],
      "authorship_tag": "ABX9TyPtv/IKV7lkZbOLEJfcWpI3",
      "include_colab_link": true
    },
    "kernelspec": {
      "display_name": "Python 3",
      "name": "python3"
    },
    "language_info": {
      "name": "python"
    },
    "widgets": {
      "application/vnd.jupyter.widget-state+json": {
        "b5879c99284b4265865d357c0f66729c": {
          "model_module": "@jupyter-widgets/controls",
          "model_name": "HBoxModel",
          "model_module_version": "1.5.0",
          "state": {
            "_dom_classes": [],
            "_model_module": "@jupyter-widgets/controls",
            "_model_module_version": "1.5.0",
            "_model_name": "HBoxModel",
            "_view_count": null,
            "_view_module": "@jupyter-widgets/controls",
            "_view_module_version": "1.5.0",
            "_view_name": "HBoxView",
            "box_style": "",
            "children": [
              "IPY_MODEL_cc4f4907bb304b6da240f8cd85a514bf",
              "IPY_MODEL_58853899ef204fd3ab60ba4b0a24c121",
              "IPY_MODEL_1451865d17f540daa3a7d05ca8f4e44d"
            ],
            "layout": "IPY_MODEL_04b8744f9c2e4c949572540806754cb1"
          }
        },
        "cc4f4907bb304b6da240f8cd85a514bf": {
          "model_module": "@jupyter-widgets/controls",
          "model_name": "HTMLModel",
          "model_module_version": "1.5.0",
          "state": {
            "_dom_classes": [],
            "_model_module": "@jupyter-widgets/controls",
            "_model_module_version": "1.5.0",
            "_model_name": "HTMLModel",
            "_view_count": null,
            "_view_module": "@jupyter-widgets/controls",
            "_view_module_version": "1.5.0",
            "_view_name": "HTMLView",
            "description": "",
            "description_tooltip": null,
            "layout": "IPY_MODEL_f5602aaaf7cb4705ba22c19c69ec7806",
            "placeholder": "​",
            "style": "IPY_MODEL_8df4c584ec734bb8a065a4042ecd48c6",
            "value": "100%"
          }
        },
        "58853899ef204fd3ab60ba4b0a24c121": {
          "model_module": "@jupyter-widgets/controls",
          "model_name": "FloatProgressModel",
          "model_module_version": "1.5.0",
          "state": {
            "_dom_classes": [],
            "_model_module": "@jupyter-widgets/controls",
            "_model_module_version": "1.5.0",
            "_model_name": "FloatProgressModel",
            "_view_count": null,
            "_view_module": "@jupyter-widgets/controls",
            "_view_module_version": "1.5.0",
            "_view_name": "ProgressView",
            "bar_style": "success",
            "description": "",
            "description_tooltip": null,
            "layout": "IPY_MODEL_894d18ed166040aa92d38b91247b07c4",
            "max": 50,
            "min": 0,
            "orientation": "horizontal",
            "style": "IPY_MODEL_1fd4936b007b4ed79fbc642ae23ae358",
            "value": 50
          }
        },
        "1451865d17f540daa3a7d05ca8f4e44d": {
          "model_module": "@jupyter-widgets/controls",
          "model_name": "HTMLModel",
          "model_module_version": "1.5.0",
          "state": {
            "_dom_classes": [],
            "_model_module": "@jupyter-widgets/controls",
            "_model_module_version": "1.5.0",
            "_model_name": "HTMLModel",
            "_view_count": null,
            "_view_module": "@jupyter-widgets/controls",
            "_view_module_version": "1.5.0",
            "_view_name": "HTMLView",
            "description": "",
            "description_tooltip": null,
            "layout": "IPY_MODEL_c7a967175a884c59a8a0eaa9772d0986",
            "placeholder": "​",
            "style": "IPY_MODEL_0e7aeca6849b4d75bbeaf54db220d660",
            "value": " 50/50 [00:59&lt;00:00,  1.19s/it]"
          }
        },
        "04b8744f9c2e4c949572540806754cb1": {
          "model_module": "@jupyter-widgets/base",
          "model_name": "LayoutModel",
          "model_module_version": "1.2.0",
          "state": {
            "_model_module": "@jupyter-widgets/base",
            "_model_module_version": "1.2.0",
            "_model_name": "LayoutModel",
            "_view_count": null,
            "_view_module": "@jupyter-widgets/base",
            "_view_module_version": "1.2.0",
            "_view_name": "LayoutView",
            "align_content": null,
            "align_items": null,
            "align_self": null,
            "border": null,
            "bottom": null,
            "display": null,
            "flex": null,
            "flex_flow": null,
            "grid_area": null,
            "grid_auto_columns": null,
            "grid_auto_flow": null,
            "grid_auto_rows": null,
            "grid_column": null,
            "grid_gap": null,
            "grid_row": null,
            "grid_template_areas": null,
            "grid_template_columns": null,
            "grid_template_rows": null,
            "height": null,
            "justify_content": null,
            "justify_items": null,
            "left": null,
            "margin": null,
            "max_height": null,
            "max_width": null,
            "min_height": null,
            "min_width": null,
            "object_fit": null,
            "object_position": null,
            "order": null,
            "overflow": null,
            "overflow_x": null,
            "overflow_y": null,
            "padding": null,
            "right": null,
            "top": null,
            "visibility": null,
            "width": null
          }
        },
        "f5602aaaf7cb4705ba22c19c69ec7806": {
          "model_module": "@jupyter-widgets/base",
          "model_name": "LayoutModel",
          "model_module_version": "1.2.0",
          "state": {
            "_model_module": "@jupyter-widgets/base",
            "_model_module_version": "1.2.0",
            "_model_name": "LayoutModel",
            "_view_count": null,
            "_view_module": "@jupyter-widgets/base",
            "_view_module_version": "1.2.0",
            "_view_name": "LayoutView",
            "align_content": null,
            "align_items": null,
            "align_self": null,
            "border": null,
            "bottom": null,
            "display": null,
            "flex": null,
            "flex_flow": null,
            "grid_area": null,
            "grid_auto_columns": null,
            "grid_auto_flow": null,
            "grid_auto_rows": null,
            "grid_column": null,
            "grid_gap": null,
            "grid_row": null,
            "grid_template_areas": null,
            "grid_template_columns": null,
            "grid_template_rows": null,
            "height": null,
            "justify_content": null,
            "justify_items": null,
            "left": null,
            "margin": null,
            "max_height": null,
            "max_width": null,
            "min_height": null,
            "min_width": null,
            "object_fit": null,
            "object_position": null,
            "order": null,
            "overflow": null,
            "overflow_x": null,
            "overflow_y": null,
            "padding": null,
            "right": null,
            "top": null,
            "visibility": null,
            "width": null
          }
        },
        "8df4c584ec734bb8a065a4042ecd48c6": {
          "model_module": "@jupyter-widgets/controls",
          "model_name": "DescriptionStyleModel",
          "model_module_version": "1.5.0",
          "state": {
            "_model_module": "@jupyter-widgets/controls",
            "_model_module_version": "1.5.0",
            "_model_name": "DescriptionStyleModel",
            "_view_count": null,
            "_view_module": "@jupyter-widgets/base",
            "_view_module_version": "1.2.0",
            "_view_name": "StyleView",
            "description_width": ""
          }
        },
        "894d18ed166040aa92d38b91247b07c4": {
          "model_module": "@jupyter-widgets/base",
          "model_name": "LayoutModel",
          "model_module_version": "1.2.0",
          "state": {
            "_model_module": "@jupyter-widgets/base",
            "_model_module_version": "1.2.0",
            "_model_name": "LayoutModel",
            "_view_count": null,
            "_view_module": "@jupyter-widgets/base",
            "_view_module_version": "1.2.0",
            "_view_name": "LayoutView",
            "align_content": null,
            "align_items": null,
            "align_self": null,
            "border": null,
            "bottom": null,
            "display": null,
            "flex": null,
            "flex_flow": null,
            "grid_area": null,
            "grid_auto_columns": null,
            "grid_auto_flow": null,
            "grid_auto_rows": null,
            "grid_column": null,
            "grid_gap": null,
            "grid_row": null,
            "grid_template_areas": null,
            "grid_template_columns": null,
            "grid_template_rows": null,
            "height": null,
            "justify_content": null,
            "justify_items": null,
            "left": null,
            "margin": null,
            "max_height": null,
            "max_width": null,
            "min_height": null,
            "min_width": null,
            "object_fit": null,
            "object_position": null,
            "order": null,
            "overflow": null,
            "overflow_x": null,
            "overflow_y": null,
            "padding": null,
            "right": null,
            "top": null,
            "visibility": null,
            "width": null
          }
        },
        "1fd4936b007b4ed79fbc642ae23ae358": {
          "model_module": "@jupyter-widgets/controls",
          "model_name": "ProgressStyleModel",
          "model_module_version": "1.5.0",
          "state": {
            "_model_module": "@jupyter-widgets/controls",
            "_model_module_version": "1.5.0",
            "_model_name": "ProgressStyleModel",
            "_view_count": null,
            "_view_module": "@jupyter-widgets/base",
            "_view_module_version": "1.2.0",
            "_view_name": "StyleView",
            "bar_color": null,
            "description_width": ""
          }
        },
        "c7a967175a884c59a8a0eaa9772d0986": {
          "model_module": "@jupyter-widgets/base",
          "model_name": "LayoutModel",
          "model_module_version": "1.2.0",
          "state": {
            "_model_module": "@jupyter-widgets/base",
            "_model_module_version": "1.2.0",
            "_model_name": "LayoutModel",
            "_view_count": null,
            "_view_module": "@jupyter-widgets/base",
            "_view_module_version": "1.2.0",
            "_view_name": "LayoutView",
            "align_content": null,
            "align_items": null,
            "align_self": null,
            "border": null,
            "bottom": null,
            "display": null,
            "flex": null,
            "flex_flow": null,
            "grid_area": null,
            "grid_auto_columns": null,
            "grid_auto_flow": null,
            "grid_auto_rows": null,
            "grid_column": null,
            "grid_gap": null,
            "grid_row": null,
            "grid_template_areas": null,
            "grid_template_columns": null,
            "grid_template_rows": null,
            "height": null,
            "justify_content": null,
            "justify_items": null,
            "left": null,
            "margin": null,
            "max_height": null,
            "max_width": null,
            "min_height": null,
            "min_width": null,
            "object_fit": null,
            "object_position": null,
            "order": null,
            "overflow": null,
            "overflow_x": null,
            "overflow_y": null,
            "padding": null,
            "right": null,
            "top": null,
            "visibility": null,
            "width": null
          }
        },
        "0e7aeca6849b4d75bbeaf54db220d660": {
          "model_module": "@jupyter-widgets/controls",
          "model_name": "DescriptionStyleModel",
          "model_module_version": "1.5.0",
          "state": {
            "_model_module": "@jupyter-widgets/controls",
            "_model_module_version": "1.5.0",
            "_model_name": "DescriptionStyleModel",
            "_view_count": null,
            "_view_module": "@jupyter-widgets/base",
            "_view_module_version": "1.2.0",
            "_view_name": "StyleView",
            "description_width": ""
          }
        },
        "3b61a4b96a3049cdaaf861b688310665": {
          "model_module": "@jupyter-widgets/controls",
          "model_name": "HBoxModel",
          "model_module_version": "1.5.0",
          "state": {
            "_dom_classes": [],
            "_model_module": "@jupyter-widgets/controls",
            "_model_module_version": "1.5.0",
            "_model_name": "HBoxModel",
            "_view_count": null,
            "_view_module": "@jupyter-widgets/controls",
            "_view_module_version": "1.5.0",
            "_view_name": "HBoxView",
            "box_style": "",
            "children": [
              "IPY_MODEL_f755b686d6394b238470b1b95acb170a",
              "IPY_MODEL_332beccba97947b4ae92ca042e01159b",
              "IPY_MODEL_b91096ec80274484a91d63da2b340b69"
            ],
            "layout": "IPY_MODEL_03fc516f0788443baab3cfd9ea9428a5"
          }
        },
        "f755b686d6394b238470b1b95acb170a": {
          "model_module": "@jupyter-widgets/controls",
          "model_name": "HTMLModel",
          "model_module_version": "1.5.0",
          "state": {
            "_dom_classes": [],
            "_model_module": "@jupyter-widgets/controls",
            "_model_module_version": "1.5.0",
            "_model_name": "HTMLModel",
            "_view_count": null,
            "_view_module": "@jupyter-widgets/controls",
            "_view_module_version": "1.5.0",
            "_view_name": "HTMLView",
            "description": "",
            "description_tooltip": null,
            "layout": "IPY_MODEL_91f3f2871f8d41fbb3e2e7866bb2b04c",
            "placeholder": "​",
            "style": "IPY_MODEL_737e8990f26b4b0d99fc50a1c442ca0b",
            "value": "Map: 100%"
          }
        },
        "332beccba97947b4ae92ca042e01159b": {
          "model_module": "@jupyter-widgets/controls",
          "model_name": "FloatProgressModel",
          "model_module_version": "1.5.0",
          "state": {
            "_dom_classes": [],
            "_model_module": "@jupyter-widgets/controls",
            "_model_module_version": "1.5.0",
            "_model_name": "FloatProgressModel",
            "_view_count": null,
            "_view_module": "@jupyter-widgets/controls",
            "_view_module_version": "1.5.0",
            "_view_name": "ProgressView",
            "bar_style": "success",
            "description": "",
            "description_tooltip": null,
            "layout": "IPY_MODEL_f8c43012bc094ff781294cdccbcf27c2",
            "max": 20000,
            "min": 0,
            "orientation": "horizontal",
            "style": "IPY_MODEL_486eac40f12540668bb0bf296891c02a",
            "value": 20000
          }
        },
        "b91096ec80274484a91d63da2b340b69": {
          "model_module": "@jupyter-widgets/controls",
          "model_name": "HTMLModel",
          "model_module_version": "1.5.0",
          "state": {
            "_dom_classes": [],
            "_model_module": "@jupyter-widgets/controls",
            "_model_module_version": "1.5.0",
            "_model_name": "HTMLModel",
            "_view_count": null,
            "_view_module": "@jupyter-widgets/controls",
            "_view_module_version": "1.5.0",
            "_view_name": "HTMLView",
            "description": "",
            "description_tooltip": null,
            "layout": "IPY_MODEL_25a8402d09374f4286a75a059ec79f74",
            "placeholder": "​",
            "style": "IPY_MODEL_7277815c046941bb976a39603ca650e7",
            "value": " 20000/20000 [00:07&lt;00:00, 1469.25 examples/s]"
          }
        },
        "03fc516f0788443baab3cfd9ea9428a5": {
          "model_module": "@jupyter-widgets/base",
          "model_name": "LayoutModel",
          "model_module_version": "1.2.0",
          "state": {
            "_model_module": "@jupyter-widgets/base",
            "_model_module_version": "1.2.0",
            "_model_name": "LayoutModel",
            "_view_count": null,
            "_view_module": "@jupyter-widgets/base",
            "_view_module_version": "1.2.0",
            "_view_name": "LayoutView",
            "align_content": null,
            "align_items": null,
            "align_self": null,
            "border": null,
            "bottom": null,
            "display": null,
            "flex": null,
            "flex_flow": null,
            "grid_area": null,
            "grid_auto_columns": null,
            "grid_auto_flow": null,
            "grid_auto_rows": null,
            "grid_column": null,
            "grid_gap": null,
            "grid_row": null,
            "grid_template_areas": null,
            "grid_template_columns": null,
            "grid_template_rows": null,
            "height": null,
            "justify_content": null,
            "justify_items": null,
            "left": null,
            "margin": null,
            "max_height": null,
            "max_width": null,
            "min_height": null,
            "min_width": null,
            "object_fit": null,
            "object_position": null,
            "order": null,
            "overflow": null,
            "overflow_x": null,
            "overflow_y": null,
            "padding": null,
            "right": null,
            "top": null,
            "visibility": null,
            "width": null
          }
        },
        "91f3f2871f8d41fbb3e2e7866bb2b04c": {
          "model_module": "@jupyter-widgets/base",
          "model_name": "LayoutModel",
          "model_module_version": "1.2.0",
          "state": {
            "_model_module": "@jupyter-widgets/base",
            "_model_module_version": "1.2.0",
            "_model_name": "LayoutModel",
            "_view_count": null,
            "_view_module": "@jupyter-widgets/base",
            "_view_module_version": "1.2.0",
            "_view_name": "LayoutView",
            "align_content": null,
            "align_items": null,
            "align_self": null,
            "border": null,
            "bottom": null,
            "display": null,
            "flex": null,
            "flex_flow": null,
            "grid_area": null,
            "grid_auto_columns": null,
            "grid_auto_flow": null,
            "grid_auto_rows": null,
            "grid_column": null,
            "grid_gap": null,
            "grid_row": null,
            "grid_template_areas": null,
            "grid_template_columns": null,
            "grid_template_rows": null,
            "height": null,
            "justify_content": null,
            "justify_items": null,
            "left": null,
            "margin": null,
            "max_height": null,
            "max_width": null,
            "min_height": null,
            "min_width": null,
            "object_fit": null,
            "object_position": null,
            "order": null,
            "overflow": null,
            "overflow_x": null,
            "overflow_y": null,
            "padding": null,
            "right": null,
            "top": null,
            "visibility": null,
            "width": null
          }
        },
        "737e8990f26b4b0d99fc50a1c442ca0b": {
          "model_module": "@jupyter-widgets/controls",
          "model_name": "DescriptionStyleModel",
          "model_module_version": "1.5.0",
          "state": {
            "_model_module": "@jupyter-widgets/controls",
            "_model_module_version": "1.5.0",
            "_model_name": "DescriptionStyleModel",
            "_view_count": null,
            "_view_module": "@jupyter-widgets/base",
            "_view_module_version": "1.2.0",
            "_view_name": "StyleView",
            "description_width": ""
          }
        },
        "f8c43012bc094ff781294cdccbcf27c2": {
          "model_module": "@jupyter-widgets/base",
          "model_name": "LayoutModel",
          "model_module_version": "1.2.0",
          "state": {
            "_model_module": "@jupyter-widgets/base",
            "_model_module_version": "1.2.0",
            "_model_name": "LayoutModel",
            "_view_count": null,
            "_view_module": "@jupyter-widgets/base",
            "_view_module_version": "1.2.0",
            "_view_name": "LayoutView",
            "align_content": null,
            "align_items": null,
            "align_self": null,
            "border": null,
            "bottom": null,
            "display": null,
            "flex": null,
            "flex_flow": null,
            "grid_area": null,
            "grid_auto_columns": null,
            "grid_auto_flow": null,
            "grid_auto_rows": null,
            "grid_column": null,
            "grid_gap": null,
            "grid_row": null,
            "grid_template_areas": null,
            "grid_template_columns": null,
            "grid_template_rows": null,
            "height": null,
            "justify_content": null,
            "justify_items": null,
            "left": null,
            "margin": null,
            "max_height": null,
            "max_width": null,
            "min_height": null,
            "min_width": null,
            "object_fit": null,
            "object_position": null,
            "order": null,
            "overflow": null,
            "overflow_x": null,
            "overflow_y": null,
            "padding": null,
            "right": null,
            "top": null,
            "visibility": null,
            "width": null
          }
        },
        "486eac40f12540668bb0bf296891c02a": {
          "model_module": "@jupyter-widgets/controls",
          "model_name": "ProgressStyleModel",
          "model_module_version": "1.5.0",
          "state": {
            "_model_module": "@jupyter-widgets/controls",
            "_model_module_version": "1.5.0",
            "_model_name": "ProgressStyleModel",
            "_view_count": null,
            "_view_module": "@jupyter-widgets/base",
            "_view_module_version": "1.2.0",
            "_view_name": "StyleView",
            "bar_color": null,
            "description_width": ""
          }
        },
        "25a8402d09374f4286a75a059ec79f74": {
          "model_module": "@jupyter-widgets/base",
          "model_name": "LayoutModel",
          "model_module_version": "1.2.0",
          "state": {
            "_model_module": "@jupyter-widgets/base",
            "_model_module_version": "1.2.0",
            "_model_name": "LayoutModel",
            "_view_count": null,
            "_view_module": "@jupyter-widgets/base",
            "_view_module_version": "1.2.0",
            "_view_name": "LayoutView",
            "align_content": null,
            "align_items": null,
            "align_self": null,
            "border": null,
            "bottom": null,
            "display": null,
            "flex": null,
            "flex_flow": null,
            "grid_area": null,
            "grid_auto_columns": null,
            "grid_auto_flow": null,
            "grid_auto_rows": null,
            "grid_column": null,
            "grid_gap": null,
            "grid_row": null,
            "grid_template_areas": null,
            "grid_template_columns": null,
            "grid_template_rows": null,
            "height": null,
            "justify_content": null,
            "justify_items": null,
            "left": null,
            "margin": null,
            "max_height": null,
            "max_width": null,
            "min_height": null,
            "min_width": null,
            "object_fit": null,
            "object_position": null,
            "order": null,
            "overflow": null,
            "overflow_x": null,
            "overflow_y": null,
            "padding": null,
            "right": null,
            "top": null,
            "visibility": null,
            "width": null
          }
        },
        "7277815c046941bb976a39603ca650e7": {
          "model_module": "@jupyter-widgets/controls",
          "model_name": "DescriptionStyleModel",
          "model_module_version": "1.5.0",
          "state": {
            "_model_module": "@jupyter-widgets/controls",
            "_model_module_version": "1.5.0",
            "_model_name": "DescriptionStyleModel",
            "_view_count": null,
            "_view_module": "@jupyter-widgets/base",
            "_view_module_version": "1.2.0",
            "_view_name": "StyleView",
            "description_width": ""
          }
        },
        "997630c4ce70479ab77178362740174e": {
          "model_module": "@jupyter-widgets/controls",
          "model_name": "HBoxModel",
          "model_module_version": "1.5.0",
          "state": {
            "_dom_classes": [],
            "_model_module": "@jupyter-widgets/controls",
            "_model_module_version": "1.5.0",
            "_model_name": "HBoxModel",
            "_view_count": null,
            "_view_module": "@jupyter-widgets/controls",
            "_view_module_version": "1.5.0",
            "_view_name": "HBoxView",
            "box_style": "",
            "children": [
              "IPY_MODEL_bfc37db3bffb4baabd7848ef89ebc234",
              "IPY_MODEL_bd1e2b2215c145f19e0127b666f02af6",
              "IPY_MODEL_db938ce7ee7b44f2a5417bd48a379894"
            ],
            "layout": "IPY_MODEL_40d75c9eab3a4052b3e0b97e28a96b54"
          }
        },
        "bfc37db3bffb4baabd7848ef89ebc234": {
          "model_module": "@jupyter-widgets/controls",
          "model_name": "HTMLModel",
          "model_module_version": "1.5.0",
          "state": {
            "_dom_classes": [],
            "_model_module": "@jupyter-widgets/controls",
            "_model_module_version": "1.5.0",
            "_model_name": "HTMLModel",
            "_view_count": null,
            "_view_module": "@jupyter-widgets/controls",
            "_view_module_version": "1.5.0",
            "_view_name": "HTMLView",
            "description": "",
            "description_tooltip": null,
            "layout": "IPY_MODEL_ef95040c80e84c0cb1fabb392f7893f3",
            "placeholder": "​",
            "style": "IPY_MODEL_9ba21ab165ed444d8952f087621d76d0",
            "value": "Map: 100%"
          }
        },
        "bd1e2b2215c145f19e0127b666f02af6": {
          "model_module": "@jupyter-widgets/controls",
          "model_name": "FloatProgressModel",
          "model_module_version": "1.5.0",
          "state": {
            "_dom_classes": [],
            "_model_module": "@jupyter-widgets/controls",
            "_model_module_version": "1.5.0",
            "_model_name": "FloatProgressModel",
            "_view_count": null,
            "_view_module": "@jupyter-widgets/controls",
            "_view_module_version": "1.5.0",
            "_view_name": "ProgressView",
            "bar_style": "success",
            "description": "",
            "description_tooltip": null,
            "layout": "IPY_MODEL_29c29b73802549c99e05e58f66ee529d",
            "max": 7600,
            "min": 0,
            "orientation": "horizontal",
            "style": "IPY_MODEL_7e239b22d3d14ae0a0ea4ee3e657480b",
            "value": 7600
          }
        },
        "db938ce7ee7b44f2a5417bd48a379894": {
          "model_module": "@jupyter-widgets/controls",
          "model_name": "HTMLModel",
          "model_module_version": "1.5.0",
          "state": {
            "_dom_classes": [],
            "_model_module": "@jupyter-widgets/controls",
            "_model_module_version": "1.5.0",
            "_model_name": "HTMLModel",
            "_view_count": null,
            "_view_module": "@jupyter-widgets/controls",
            "_view_module_version": "1.5.0",
            "_view_name": "HTMLView",
            "description": "",
            "description_tooltip": null,
            "layout": "IPY_MODEL_4eb44b60bcbb4d608702a7eb93f4ef33",
            "placeholder": "​",
            "style": "IPY_MODEL_7233df53c61543e59972c49ee5000008",
            "value": " 7600/7600 [00:02&lt;00:00, 3952.35 examples/s]"
          }
        },
        "40d75c9eab3a4052b3e0b97e28a96b54": {
          "model_module": "@jupyter-widgets/base",
          "model_name": "LayoutModel",
          "model_module_version": "1.2.0",
          "state": {
            "_model_module": "@jupyter-widgets/base",
            "_model_module_version": "1.2.0",
            "_model_name": "LayoutModel",
            "_view_count": null,
            "_view_module": "@jupyter-widgets/base",
            "_view_module_version": "1.2.0",
            "_view_name": "LayoutView",
            "align_content": null,
            "align_items": null,
            "align_self": null,
            "border": null,
            "bottom": null,
            "display": null,
            "flex": null,
            "flex_flow": null,
            "grid_area": null,
            "grid_auto_columns": null,
            "grid_auto_flow": null,
            "grid_auto_rows": null,
            "grid_column": null,
            "grid_gap": null,
            "grid_row": null,
            "grid_template_areas": null,
            "grid_template_columns": null,
            "grid_template_rows": null,
            "height": null,
            "justify_content": null,
            "justify_items": null,
            "left": null,
            "margin": null,
            "max_height": null,
            "max_width": null,
            "min_height": null,
            "min_width": null,
            "object_fit": null,
            "object_position": null,
            "order": null,
            "overflow": null,
            "overflow_x": null,
            "overflow_y": null,
            "padding": null,
            "right": null,
            "top": null,
            "visibility": null,
            "width": null
          }
        },
        "ef95040c80e84c0cb1fabb392f7893f3": {
          "model_module": "@jupyter-widgets/base",
          "model_name": "LayoutModel",
          "model_module_version": "1.2.0",
          "state": {
            "_model_module": "@jupyter-widgets/base",
            "_model_module_version": "1.2.0",
            "_model_name": "LayoutModel",
            "_view_count": null,
            "_view_module": "@jupyter-widgets/base",
            "_view_module_version": "1.2.0",
            "_view_name": "LayoutView",
            "align_content": null,
            "align_items": null,
            "align_self": null,
            "border": null,
            "bottom": null,
            "display": null,
            "flex": null,
            "flex_flow": null,
            "grid_area": null,
            "grid_auto_columns": null,
            "grid_auto_flow": null,
            "grid_auto_rows": null,
            "grid_column": null,
            "grid_gap": null,
            "grid_row": null,
            "grid_template_areas": null,
            "grid_template_columns": null,
            "grid_template_rows": null,
            "height": null,
            "justify_content": null,
            "justify_items": null,
            "left": null,
            "margin": null,
            "max_height": null,
            "max_width": null,
            "min_height": null,
            "min_width": null,
            "object_fit": null,
            "object_position": null,
            "order": null,
            "overflow": null,
            "overflow_x": null,
            "overflow_y": null,
            "padding": null,
            "right": null,
            "top": null,
            "visibility": null,
            "width": null
          }
        },
        "9ba21ab165ed444d8952f087621d76d0": {
          "model_module": "@jupyter-widgets/controls",
          "model_name": "DescriptionStyleModel",
          "model_module_version": "1.5.0",
          "state": {
            "_model_module": "@jupyter-widgets/controls",
            "_model_module_version": "1.5.0",
            "_model_name": "DescriptionStyleModel",
            "_view_count": null,
            "_view_module": "@jupyter-widgets/base",
            "_view_module_version": "1.2.0",
            "_view_name": "StyleView",
            "description_width": ""
          }
        },
        "29c29b73802549c99e05e58f66ee529d": {
          "model_module": "@jupyter-widgets/base",
          "model_name": "LayoutModel",
          "model_module_version": "1.2.0",
          "state": {
            "_model_module": "@jupyter-widgets/base",
            "_model_module_version": "1.2.0",
            "_model_name": "LayoutModel",
            "_view_count": null,
            "_view_module": "@jupyter-widgets/base",
            "_view_module_version": "1.2.0",
            "_view_name": "LayoutView",
            "align_content": null,
            "align_items": null,
            "align_self": null,
            "border": null,
            "bottom": null,
            "display": null,
            "flex": null,
            "flex_flow": null,
            "grid_area": null,
            "grid_auto_columns": null,
            "grid_auto_flow": null,
            "grid_auto_rows": null,
            "grid_column": null,
            "grid_gap": null,
            "grid_row": null,
            "grid_template_areas": null,
            "grid_template_columns": null,
            "grid_template_rows": null,
            "height": null,
            "justify_content": null,
            "justify_items": null,
            "left": null,
            "margin": null,
            "max_height": null,
            "max_width": null,
            "min_height": null,
            "min_width": null,
            "object_fit": null,
            "object_position": null,
            "order": null,
            "overflow": null,
            "overflow_x": null,
            "overflow_y": null,
            "padding": null,
            "right": null,
            "top": null,
            "visibility": null,
            "width": null
          }
        },
        "7e239b22d3d14ae0a0ea4ee3e657480b": {
          "model_module": "@jupyter-widgets/controls",
          "model_name": "ProgressStyleModel",
          "model_module_version": "1.5.0",
          "state": {
            "_model_module": "@jupyter-widgets/controls",
            "_model_module_version": "1.5.0",
            "_model_name": "ProgressStyleModel",
            "_view_count": null,
            "_view_module": "@jupyter-widgets/base",
            "_view_module_version": "1.2.0",
            "_view_name": "StyleView",
            "bar_color": null,
            "description_width": ""
          }
        },
        "4eb44b60bcbb4d608702a7eb93f4ef33": {
          "model_module": "@jupyter-widgets/base",
          "model_name": "LayoutModel",
          "model_module_version": "1.2.0",
          "state": {
            "_model_module": "@jupyter-widgets/base",
            "_model_module_version": "1.2.0",
            "_model_name": "LayoutModel",
            "_view_count": null,
            "_view_module": "@jupyter-widgets/base",
            "_view_module_version": "1.2.0",
            "_view_name": "LayoutView",
            "align_content": null,
            "align_items": null,
            "align_self": null,
            "border": null,
            "bottom": null,
            "display": null,
            "flex": null,
            "flex_flow": null,
            "grid_area": null,
            "grid_auto_columns": null,
            "grid_auto_flow": null,
            "grid_auto_rows": null,
            "grid_column": null,
            "grid_gap": null,
            "grid_row": null,
            "grid_template_areas": null,
            "grid_template_columns": null,
            "grid_template_rows": null,
            "height": null,
            "justify_content": null,
            "justify_items": null,
            "left": null,
            "margin": null,
            "max_height": null,
            "max_width": null,
            "min_height": null,
            "min_width": null,
            "object_fit": null,
            "object_position": null,
            "order": null,
            "overflow": null,
            "overflow_x": null,
            "overflow_y": null,
            "padding": null,
            "right": null,
            "top": null,
            "visibility": null,
            "width": null
          }
        },
        "7233df53c61543e59972c49ee5000008": {
          "model_module": "@jupyter-widgets/controls",
          "model_name": "DescriptionStyleModel",
          "model_module_version": "1.5.0",
          "state": {
            "_model_module": "@jupyter-widgets/controls",
            "_model_module_version": "1.5.0",
            "_model_name": "DescriptionStyleModel",
            "_view_count": null,
            "_view_module": "@jupyter-widgets/base",
            "_view_module_version": "1.2.0",
            "_view_name": "StyleView",
            "description_width": ""
          }
        }
      }
    }
  },
  "nbformat": 4,
  "nbformat_minor": 0
}